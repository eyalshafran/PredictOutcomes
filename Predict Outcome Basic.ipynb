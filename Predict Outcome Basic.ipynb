{
 "cells": [
  {
   "cell_type": "code",
   "execution_count": 29,
   "metadata": {},
   "outputs": [],
   "source": [
    "import pandas as pd\n",
    "import numpy as np\n",
    "import matplotlib.pyplot as plt\n",
    "\n",
    "%matplotlib inline"
   ]
  },
  {
   "cell_type": "code",
   "execution_count": 2,
   "metadata": {},
   "outputs": [],
   "source": [
    "data = pd.read_csv('Base.csv')"
   ]
  },
  {
   "cell_type": "code",
   "execution_count": 3,
   "metadata": {},
   "outputs": [
    {
     "data": {
      "text/html": [
       "<div>\n",
       "<style scoped>\n",
       "    .dataframe tbody tr th:only-of-type {\n",
       "        vertical-align: middle;\n",
       "    }\n",
       "\n",
       "    .dataframe tbody tr th {\n",
       "        vertical-align: top;\n",
       "    }\n",
       "\n",
       "    .dataframe thead th {\n",
       "        text-align: right;\n",
       "    }\n",
       "</style>\n",
       "<table border=\"1\" class=\"dataframe\">\n",
       "  <thead>\n",
       "    <tr style=\"text-align: right;\">\n",
       "      <th></th>\n",
       "      <th>Unnamed: 0</th>\n",
       "      <th>SEASON_YEAR</th>\n",
       "      <th>TEAM_ID</th>\n",
       "      <th>TEAM_ABBREVIATION</th>\n",
       "      <th>TEAM_NAME</th>\n",
       "      <th>GAME_ID</th>\n",
       "      <th>GAME_DATE</th>\n",
       "      <th>MATCHUP</th>\n",
       "      <th>WL</th>\n",
       "      <th>MIN</th>\n",
       "      <th>...</th>\n",
       "      <th>REB_RANK</th>\n",
       "      <th>AST_RANK</th>\n",
       "      <th>TOV_RANK</th>\n",
       "      <th>STL_RANK</th>\n",
       "      <th>BLK_RANK</th>\n",
       "      <th>BLKA_RANK</th>\n",
       "      <th>PF_RANK</th>\n",
       "      <th>PFD_RANK</th>\n",
       "      <th>PTS_RANK</th>\n",
       "      <th>PLUS_MINUS_RANK</th>\n",
       "    </tr>\n",
       "  </thead>\n",
       "  <tbody>\n",
       "    <tr>\n",
       "      <th>0</th>\n",
       "      <td>0</td>\n",
       "      <td>1996-97</td>\n",
       "      <td>1610612765</td>\n",
       "      <td>DET</td>\n",
       "      <td>Detroit Pistons</td>\n",
       "      <td>29601185</td>\n",
       "      <td>1997-04-20T00:00:00</td>\n",
       "      <td>DET @ IND</td>\n",
       "      <td>W</td>\n",
       "      <td>53.0</td>\n",
       "      <td>...</td>\n",
       "      <td>1656</td>\n",
       "      <td>1586</td>\n",
       "      <td>355</td>\n",
       "      <td>1648</td>\n",
       "      <td>1228</td>\n",
       "      <td>462</td>\n",
       "      <td>1700</td>\n",
       "      <td>358</td>\n",
       "      <td>34</td>\n",
       "      <td>929</td>\n",
       "    </tr>\n",
       "    <tr>\n",
       "      <th>1</th>\n",
       "      <td>1</td>\n",
       "      <td>1996-97</td>\n",
       "      <td>1610612764</td>\n",
       "      <td>WAS</td>\n",
       "      <td>Washington Bullets</td>\n",
       "      <td>29601184</td>\n",
       "      <td>1997-04-20T00:00:00</td>\n",
       "      <td>WAS @ CLE</td>\n",
       "      <td>W</td>\n",
       "      <td>48.0</td>\n",
       "      <td>...</td>\n",
       "      <td>499</td>\n",
       "      <td>1767</td>\n",
       "      <td>355</td>\n",
       "      <td>2258</td>\n",
       "      <td>887</td>\n",
       "      <td>1493</td>\n",
       "      <td>1106</td>\n",
       "      <td>22</td>\n",
       "      <td>1961</td>\n",
       "      <td>929</td>\n",
       "    </tr>\n",
       "    <tr>\n",
       "      <th>2</th>\n",
       "      <td>2</td>\n",
       "      <td>1996-97</td>\n",
       "      <td>1610612761</td>\n",
       "      <td>TOR</td>\n",
       "      <td>Toronto Raptors</td>\n",
       "      <td>29601182</td>\n",
       "      <td>1997-04-20T00:00:00</td>\n",
       "      <td>TOR @ BOS</td>\n",
       "      <td>W</td>\n",
       "      <td>48.0</td>\n",
       "      <td>...</td>\n",
       "      <td>1973</td>\n",
       "      <td>563</td>\n",
       "      <td>2</td>\n",
       "      <td>46</td>\n",
       "      <td>887</td>\n",
       "      <td>1</td>\n",
       "      <td>691</td>\n",
       "      <td>358</td>\n",
       "      <td>26</td>\n",
       "      <td>26</td>\n",
       "    </tr>\n",
       "    <tr>\n",
       "      <th>3</th>\n",
       "      <td>3</td>\n",
       "      <td>1996-97</td>\n",
       "      <td>1610612766</td>\n",
       "      <td>CHH</td>\n",
       "      <td>Charlotte Hornets</td>\n",
       "      <td>29601186</td>\n",
       "      <td>1997-04-20T00:00:00</td>\n",
       "      <td>CHH @ MIL</td>\n",
       "      <td>L</td>\n",
       "      <td>48.0</td>\n",
       "      <td>...</td>\n",
       "      <td>2210</td>\n",
       "      <td>1586</td>\n",
       "      <td>1200</td>\n",
       "      <td>1033</td>\n",
       "      <td>1918</td>\n",
       "      <td>800</td>\n",
       "      <td>251</td>\n",
       "      <td>358</td>\n",
       "      <td>905</td>\n",
       "      <td>2214</td>\n",
       "    </tr>\n",
       "    <tr>\n",
       "      <th>4</th>\n",
       "      <td>4</td>\n",
       "      <td>1996-97</td>\n",
       "      <td>1610612759</td>\n",
       "      <td>SAS</td>\n",
       "      <td>San Antonio Spurs</td>\n",
       "      <td>29601187</td>\n",
       "      <td>1997-04-20T00:00:00</td>\n",
       "      <td>SAS vs. HOU</td>\n",
       "      <td>L</td>\n",
       "      <td>48.0</td>\n",
       "      <td>...</td>\n",
       "      <td>499</td>\n",
       "      <td>1247</td>\n",
       "      <td>36</td>\n",
       "      <td>1919</td>\n",
       "      <td>887</td>\n",
       "      <td>1152</td>\n",
       "      <td>898</td>\n",
       "      <td>22</td>\n",
       "      <td>980</td>\n",
       "      <td>1366</td>\n",
       "    </tr>\n",
       "  </tbody>\n",
       "</table>\n",
       "<p>5 rows × 57 columns</p>\n",
       "</div>"
      ],
      "text/plain": [
       "   Unnamed: 0 SEASON_YEAR     TEAM_ID TEAM_ABBREVIATION           TEAM_NAME  \\\n",
       "0           0     1996-97  1610612765               DET     Detroit Pistons   \n",
       "1           1     1996-97  1610612764               WAS  Washington Bullets   \n",
       "2           2     1996-97  1610612761               TOR     Toronto Raptors   \n",
       "3           3     1996-97  1610612766               CHH   Charlotte Hornets   \n",
       "4           4     1996-97  1610612759               SAS   San Antonio Spurs   \n",
       "\n",
       "    GAME_ID            GAME_DATE      MATCHUP WL   MIN       ...         \\\n",
       "0  29601185  1997-04-20T00:00:00    DET @ IND  W  53.0       ...          \n",
       "1  29601184  1997-04-20T00:00:00    WAS @ CLE  W  48.0       ...          \n",
       "2  29601182  1997-04-20T00:00:00    TOR @ BOS  W  48.0       ...          \n",
       "3  29601186  1997-04-20T00:00:00    CHH @ MIL  L  48.0       ...          \n",
       "4  29601187  1997-04-20T00:00:00  SAS vs. HOU  L  48.0       ...          \n",
       "\n",
       "   REB_RANK  AST_RANK  TOV_RANK  STL_RANK  BLK_RANK  BLKA_RANK  PF_RANK  \\\n",
       "0      1656      1586       355      1648      1228        462     1700   \n",
       "1       499      1767       355      2258       887       1493     1106   \n",
       "2      1973       563         2        46       887          1      691   \n",
       "3      2210      1586      1200      1033      1918        800      251   \n",
       "4       499      1247        36      1919       887       1152      898   \n",
       "\n",
       "   PFD_RANK  PTS_RANK  PLUS_MINUS_RANK  \n",
       "0       358        34              929  \n",
       "1        22      1961              929  \n",
       "2       358        26               26  \n",
       "3       358       905             2214  \n",
       "4        22       980             1366  \n",
       "\n",
       "[5 rows x 57 columns]"
      ]
     },
     "execution_count": 3,
     "metadata": {},
     "output_type": "execute_result"
    }
   ],
   "source": [
    "data.head()"
   ]
  },
  {
   "cell_type": "code",
   "execution_count": 21,
   "metadata": {},
   "outputs": [],
   "source": [
    "data['WL_numeric'] = data['WL'].map({'W':1,'L':0})\n",
    "data['HOME_GAME'] = data['MATCHUP'].str.contains(' vs. ').astype(int)\n",
    "data['GAME_DATE'] = pd.to_datetime(data['GAME_DATE'])\n",
    "data = data.sort_values(by='GAME_DATE')"
   ]
  },
  {
   "cell_type": "code",
   "execution_count": 22,
   "metadata": {},
   "outputs": [],
   "source": [
    "# important to shift data so that the team record is before the game\n",
    "# first game of every season is null so fill with 0.5\n",
    "data['TEAM_WL_PCT'] = data.groupby(['TEAM_ID','SEASON_YEAR'])[['WL_numeric']].apply(lambda x: x.expanding().mean().shift()).fillna(0.5)"
   ]
  },
  {
   "cell_type": "code",
   "execution_count": 23,
   "metadata": {},
   "outputs": [],
   "source": [
    "home_games = data[data['HOME_GAME']==1].copy()\n",
    "away_games = data[data['HOME_GAME']==0].copy()\n",
    "df = home_games.merge(away_games,on='GAME_ID',suffixes=('','_OPP'))"
   ]
  },
  {
   "cell_type": "markdown",
   "metadata": {},
   "source": [
    "### Basic predictor:\n",
    "1. Home team always wins\n",
    "2. If home team as a better winning % before the game then predict home team wins. If equal record predict home team wins "
   ]
  },
  {
   "cell_type": "code",
   "execution_count": 34,
   "metadata": {},
   "outputs": [],
   "source": [
    "df['predict_outcome_by_record'] = np.where(df['TEAM_WL_PCT'] >= df['TEAM_WL_PCT_OPP'],1,0)\n",
    "df['predict_outcome_by_home'] = 1"
   ]
  },
  {
   "cell_type": "code",
   "execution_count": 35,
   "metadata": {},
   "outputs": [],
   "source": [
    "df['correct_prediction_by_record'] = np.where(df['WL_numeric']==df['predict_outcome_by_record'],1,0)\n",
    "df['correct_prediction_by_home'] = np.where(df['WL_numeric']==df['predict_outcome_by_home'],1,0)"
   ]
  },
  {
   "cell_type": "code",
   "execution_count": 36,
   "metadata": {},
   "outputs": [
    {
     "data": {
      "text/plain": [
       "Text(0, 0.5, 'Prediction Success')"
      ]
     },
     "execution_count": 36,
     "metadata": {},
     "output_type": "execute_result"
    },
    {
     "data": {
      "image/png": "[encoded data removed]",
      "text/plain": [
       "<Figure size 576x432 with 1 Axes>"
      ]
     },
     "metadata": {
      "needs_background": "light"
     },
     "output_type": "display_data"
    }
   ],
   "source": [
    "ax = df.groupby('SEASON_YEAR')[['correct_prediction_by_record','correct_prediction_by_home']].mean().plot(figsize=(8,6),linewidth=4)\n",
    "ax.set_ylabel('Prediction Success')"
   ]
  },
  {
   "cell_type": "code",
   "execution_count": null,
   "metadata": {},
   "outputs": [],
   "source": []
  }
 ],
 "metadata": {
  "kernelspec": {
   "display_name": "Python 3",
   "language": "python",
   "name": "python3"
  },
  "language_info": {
   "codemirror_mode": {
    "name": "ipython",
    "version": 3
   },
   "file_extension": ".py",
   "mimetype": "text/x-python",
   "name": "python",
   "nbconvert_exporter": "python",
   "pygments_lexer": "ipython3",
   "version": "3.6.3"
  }
 },
 "nbformat": 4,
 "nbformat_minor": 2
}
